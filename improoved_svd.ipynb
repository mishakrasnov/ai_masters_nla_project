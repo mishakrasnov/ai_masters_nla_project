{
 "cells": [
  {
   "cell_type": "code",
   "execution_count": 1,
   "id": "63886480-1e97-4a73-a1a1-7cca1f68540a",
   "metadata": {},
   "outputs": [
    {
     "ename": "ModuleNotFoundError",
     "evalue": "No module named 'aeon'",
     "output_type": "error",
     "traceback": [
      "\u001b[0;31m---------------------------------------------------------------------------\u001b[0m",
      "\u001b[0;31mModuleNotFoundError\u001b[0m                       Traceback (most recent call last)",
      "Cell \u001b[0;32mIn[1], line 3\u001b[0m\n\u001b[1;32m      1\u001b[0m \u001b[38;5;28;01mimport\u001b[39;00m \u001b[38;5;21;01mos\u001b[39;00m\n\u001b[0;32m----> 3\u001b[0m \u001b[38;5;28;01mimport\u001b[39;00m \u001b[38;5;21;01maeon\u001b[39;00m\n\u001b[1;32m      4\u001b[0m \u001b[38;5;28;01mfrom\u001b[39;00m \u001b[38;5;21;01maeon\u001b[39;00m\u001b[38;5;21;01m.\u001b[39;00m\u001b[38;5;21;01mdatasets\u001b[39;00m \u001b[38;5;28;01mimport\u001b[39;00m load_from_ts_file\n",
      "\u001b[0;31mModuleNotFoundError\u001b[0m: No module named 'aeon'"
     ]
    }
   ],
   "source": [
    "import os\n",
    "\n",
    "import aeon\n",
    "from aeon.datasets import load_from_ts_file"
   ]
  },
  {
   "cell_type": "code",
   "execution_count": 1,
   "id": "a738bf60-eeee-4c42-9372-add953c4ad6b",
   "metadata": {},
   "outputs": [],
   "source": [
    "import numpy as np\n",
    "import scipy"
   ]
  },
  {
   "cell_type": "code",
   "execution_count": 3,
   "id": "333af3e8-f4cc-4ee4-acd2-8dbbd9913c07",
   "metadata": {},
   "outputs": [],
   "source": [
    "list_of_ts_data = []\n",
    "with open(\"ts_to_predict.txt\") as f:\n",
    "    for line in f:\n",
    "        tmp = list(line.split(';'))[3:]\n",
    "        list_of_ts_data.append(np.array(tmp, dtype = float))\n",
    "        "
   ]
  },
  {
   "cell_type": "code",
   "execution_count": 3,
   "id": "5f88b466-b6fe-405d-9f27-0e86a0b52fb5",
   "metadata": {},
   "outputs": [
    {
     "ename": "NameError",
     "evalue": "name 'list_of_ts_data' is not defined",
     "output_type": "error",
     "traceback": [
      "\u001b[0;31m---------------------------------------------------------------------------\u001b[0m",
      "\u001b[0;31mNameError\u001b[0m                                 Traceback (most recent call last)",
      "Cell \u001b[0;32mIn[3], line 21\u001b[0m\n\u001b[1;32m     12\u001b[0m df \u001b[38;5;241m=\u001b[39m pd\u001b[38;5;241m.\u001b[39mread_csv(\n\u001b[1;32m     13\u001b[0m     \u001b[38;5;124m\"\u001b[39m\u001b[38;5;124mhttps://raw.githubusercontent.com/AileenNielsen/TimeSeriesAnalysisWithPython/master/data/AirPassengers.csv\u001b[39m\u001b[38;5;124m\"\u001b[39m\n\u001b[1;32m     14\u001b[0m )\n\u001b[1;32m     16\u001b[0m \u001b[38;5;66;03m# context must be either a 1D tensor, a list of 1D tensors,\u001b[39;00m\n\u001b[1;32m     17\u001b[0m \u001b[38;5;66;03m# or a left-padded 2D tensor with batch as the first dimension\u001b[39;00m\n\u001b[1;32m     18\u001b[0m \u001b[38;5;66;03m# Chronos-Bolt models generate quantile forecasts, so forecast has shape\u001b[39;00m\n\u001b[1;32m     19\u001b[0m \u001b[38;5;66;03m# [num_series, num_quantiles, prediction_length].\u001b[39;00m\n\u001b[1;32m     20\u001b[0m forecast \u001b[38;5;241m=\u001b[39m pipeline\u001b[38;5;241m.\u001b[39mpredict(\n\u001b[0;32m---> 21\u001b[0m     context\u001b[38;5;241m=\u001b[39mtorch\u001b[38;5;241m.\u001b[39mtensor(\u001b[43mlist_of_ts_data\u001b[49m[\u001b[38;5;241m0\u001b[39m]), prediction_length\u001b[38;5;241m=\u001b[39m\u001b[38;5;241m12\u001b[39m\n\u001b[1;32m     22\u001b[0m )\n",
      "\u001b[0;31mNameError\u001b[0m: name 'list_of_ts_data' is not defined"
     ]
    }
   ],
   "source": [
    "import pandas as pd  # requires: pip install pandas\n",
    "import torch\n",
    "from chronos import BaseChronosPipeline\n",
    "\n",
    "pipeline = BaseChronosPipeline.from_pretrained(\n",
    "    \"amazon/chronos-bolt-base\",\n",
    "    device_map=\"cpu\",  # use \"cpu\" for CPU inference and \"mps\" for Apple Silicon\n",
    "    torch_dtype=torch.bfloat16,\n",
    "        \n",
    ")\n",
    "\n",
    "df = pd.read_csv(\n",
    "    \"https://raw.githubusercontent.com/AileenNielsen/TimeSeriesAnalysisWithPython/master/data/AirPassengers.csv\"\n",
    ")\n",
    "\n",
    "# context must be either a 1D tensor, a list of 1D tensors,\n",
    "# or a left-padded 2D tensor with batch as the first dimension\n",
    "# Chronos-Bolt models generate quantile forecasts, so forecast has shape\n",
    "# [num_series, num_quantiles, prediction_length].\n",
    "forecast = pipeline.predict(\n",
    "    context=torch.tensor(list_of_ts_data[0]), prediction_length=12\n",
    ")"
   ]
  },
  {
   "cell_type": "code",
   "execution_count": 16,
   "id": "7bc4a475-9ec9-4423-9c16-8b73055897e1",
   "metadata": {},
   "outputs": [
    {
     "data": {
      "text/plain": [
       "torch.Size([1, 9, 12])"
      ]
     },
     "execution_count": 16,
     "metadata": {},
     "output_type": "execute_result"
    }
   ],
   "source": [
    "forecast.shape"
   ]
  },
  {
   "cell_type": "code",
   "execution_count": 4,
   "id": "07431166-840b-419c-b02e-821ac09f4d10",
   "metadata": {},
   "outputs": [],
   "source": [
    "list_of_ts_data_res = []\n",
    "with open(\"ts_results.txt\") as f:\n",
    "    for line in f:\n",
    "        tmp = list(line.split(';'))[1:]\n",
    "        list_of_ts_data_res.append(np.array(tmp, dtype = float))"
   ]
  },
  {
   "cell_type": "code",
   "execution_count": 18,
   "id": "f173db29-6c19-4472-90d7-5b662e8ff241",
   "metadata": {},
   "outputs": [
    {
     "data": {
      "text/plain": [
       "array([1657.01533756, 1624.5372867 , 1585.22298748, 1674.19528411,\n",
       "       1674.95508584, 1695.75984319, 1655.82305329, 1672.32714116,\n",
       "       1650.60573475, 1738.65621381, 1710.37802985, 1683.41802154])"
      ]
     },
     "execution_count": 18,
     "metadata": {},
     "output_type": "execute_result"
    }
   ],
   "source": [
    "list_of_ts_data_res[0]"
   ]
  },
  {
   "cell_type": "code",
   "execution_count": 6,
   "id": "0db11374-4fcc-47f9-9c30-41cbd32531e8",
   "metadata": {},
   "outputs": [],
   "source": [
    "import matplotlib.pyplot as plt"
   ]
  },
  {
   "cell_type": "code",
   "execution_count": 7,
   "id": "22ca967d-c247-4c29-8f2b-13aa8e7914e8",
   "metadata": {},
   "outputs": [
    {
     "ename": "NameError",
     "evalue": "name 'list_of_ts_data_res' is not defined",
     "output_type": "error",
     "traceback": [
      "\u001b[0;31m---------------------------------------------------------------------------\u001b[0m",
      "\u001b[0;31mNameError\u001b[0m                                 Traceback (most recent call last)",
      "Cell \u001b[0;32mIn[7], line 1\u001b[0m\n\u001b[0;32m----> 1\u001b[0m plt\u001b[38;5;241m.\u001b[39mplot(\u001b[43mlist_of_ts_data_res\u001b[49m[\u001b[38;5;241m0\u001b[39m])\n\u001b[1;32m      2\u001b[0m plt\u001b[38;5;241m.\u001b[39mplot(forecast[\u001b[38;5;241m0\u001b[39m][\u001b[38;5;241m8\u001b[39m])\n",
      "\u001b[0;31mNameError\u001b[0m: name 'list_of_ts_data_res' is not defined"
     ]
    }
   ],
   "source": [
    "plt.plot(list_of_ts_data_res[0])\n",
    "plt.plot(forecast[0][8])"
   ]
  },
  {
   "cell_type": "code",
   "execution_count": 63,
   "id": "5a954d8d-8bc1-4cef-82c3-3d2444f09f85",
   "metadata": {},
   "outputs": [
    {
     "data": {
      "text/plain": [
       "T5LayerSelfAttention(\n",
       "  (SelfAttention): T5Attention(\n",
       "    (q): Linear(in_features=768, out_features=768, bias=False)\n",
       "    (k): Linear(in_features=768, out_features=768, bias=False)\n",
       "    (v): Linear(in_features=768, out_features=768, bias=False)\n",
       "    (o): Linear(in_features=768, out_features=768, bias=False)\n",
       "  )\n",
       "  (layer_norm): T5LayerNorm()\n",
       "  (dropout): Dropout(p=0.1, inplace=False)\n",
       ")"
      ]
     },
     "execution_count": 63,
     "metadata": {},
     "output_type": "execute_result"
    }
   ],
   "source": [
    "pipeline.inner_model.encoder.block[1].layer[0]"
   ]
  },
  {
   "cell_type": "code",
   "execution_count": 4,
   "id": "56f1d9f1-52fa-4528-a20a-6401c7e3bf9e",
   "metadata": {},
   "outputs": [],
   "source": [
    "from torch import nn\n",
    "class Custom_linear(nn.Module):\n",
    "    def __init__(self, weights):\n",
    "        super().__init__()\n",
    "        self.layer = nn.Linear(in_features = weights.shape[1],\n",
    "                               out_features =  weights.shape[0], bias = False)\n",
    "        self.layer.weight = weights\n",
    "        self.c = 0\n",
    "        self.auto_cor_matrix = torch.zeros(768, 768)\n",
    "        self.auto_cor_matrix = self.auto_cor_matrix.to('cuda')\n",
    "        self.statistic = []\n",
    "    def forward(self, x):\n",
    "        self.c += 1\n",
    "\n",
    "        tmp = x.view(-1,768)\n",
    "        self.auto_cor_matrix += tmp.T @ tmp\n",
    "        #self.statistic.append(tmp)\n",
    "        \n",
    "        return self.layer(x)\n",
    "        \n",
    "def process_linear_layer(linear_layer):\n",
    "    weights = None\n",
    "    for p in linear_layer.parameters():\n",
    "            weights = p\n",
    "    return Custom_linear(weights) \n",
    "\n",
    "def process_model(model):\n",
    "    for i in range(12):\n",
    "        \n",
    "        model.encoder.block[i].layer[0].SelfAttention.q =\\\n",
    "        process_linear_layer(model.encoder.block[i].layer[0].SelfAttention.q)\n",
    "\n",
    "        model.encoder.block[i].layer[0].SelfAttention.k =\\\n",
    "        process_linear_layer(model.encoder.block[i].layer[0].SelfAttention.k)\n",
    "\n",
    "        model.encoder.block[i].layer[0].SelfAttention.v =\\\n",
    "        process_linear_layer(model.encoder.block[i].layer[0].SelfAttention.v)\n",
    "\n",
    "        model.encoder.block[i].layer[0].SelfAttention.o =\\\n",
    "        process_linear_layer(model.encoder.block[i].layer[0].SelfAttention.o)\n",
    "\n",
    "\n",
    "        model.decoder.block[i].layer[0].SelfAttention.q =\\\n",
    "        process_linear_layer(model.decoder.block[i].layer[0].SelfAttention.q)\n",
    "\n",
    "        model.decoder.block[i].layer[0].SelfAttention.k =\\\n",
    "        process_linear_layer(model.decoder.block[i].layer[0].SelfAttention.k)\n",
    "\n",
    "        model.decoder.block[i].layer[0].SelfAttention.v =\\\n",
    "        process_linear_layer(model.decoder.block[i].layer[0].SelfAttention.v)\n",
    "\n",
    "        model.decoder.block[i].layer[0].SelfAttention.o =\\\n",
    "        process_linear_layer(model.decoder.block[i].layer[0].SelfAttention.o)"
   ]
  },
  {
   "cell_type": "code",
   "execution_count": 20,
   "id": "18b814bd-d1b2-45c0-9dcd-fc940186c65e",
   "metadata": {},
   "outputs": [],
   "source": [
    "class Reduced_Linear(nn.Module):\n",
    "    def __init__(self, dense_linear_layer, rank = 1000, type = 'matrix'):\n",
    "        super(Reduced_Linear, self).__init__()\n",
    "        \n",
    "        matrix = None\n",
    "        \n",
    "        for p in dense_linear_layer.parameters():\n",
    "            matrix = p.detach()\n",
    "\n",
    "        if type == 'matrix':\n",
    "        \n",
    "            U, S, Vh = torch.linalg.svd(matrix.float(), full_matrices=False)\n",
    "            S = S[:rank]\n",
    "            U = U[:, :rank]\n",
    "            Vh = Vh[:rank,]\n",
    "            self.linear1 =  nn.Linear(in_features=matrix.shape[1], out_features=rank, bias=False)\n",
    "            self.linear2 =  nn.Linear(in_features=rank, out_features=matrix.shape[0], bias=False)\n",
    "            \n",
    "            with torch.no_grad():\n",
    "                for p in self.linear1.parameters():\n",
    "                    p.copy_((torch.diag(S)@Vh).to('cuda'))\n",
    "                \n",
    "                for p in self.linear2.parameters():\n",
    "                    p.copy_(U.to('cuda'))\n",
    "            self.linear1 = self.linear1.to('cuda')\n",
    "            self.linear2 = self.linear2.to('cuda')\n",
    "        else:\n",
    "            #X_v = torch.cat(dense_linear_layer.statistic).view(-1, 768)\n",
    "\n",
    "            #x = torch.mean(X_v**2, axis = 0)\n",
    "            \n",
    "            #R_x = torch.cov(X_v).float().cpu().numpy()\n",
    "            R_x = dense_linear_layer.auto_cor_matrix.float().cpu().numpy() / dense_linear_layer.c\n",
    "            R_sq = scipy.linalg.sqrtm(R_x + np.diag(np.ones(768)/10)) #+ np.diag(np.ones(768)/10000000))\n",
    "            #R_sq = np.sqrt(R_x)\n",
    "            \n",
    "            #R_fract_inv = np.diag(1 / np.sqrt(x.float().numpy()))\n",
    "            R_fract_inv = np.linalg.inv(R_sq)\n",
    "            \n",
    "            Q = R_sq @ matrix.float().cpu().numpy()\n",
    "            U, S, V = np.linalg.svd(Q)\n",
    "\n",
    "            self.linear1 =  nn.Linear(in_features=matrix.shape[1], out_features=rank, bias=False)\n",
    "            self.linear2 =  nn.Linear(in_features=rank, out_features=matrix.shape[0], bias=False)\n",
    "\n",
    "            #Q_c = R_fract_inv @ U[:,:w//5] * S[None, :w//5] @ V[:w//5,:]\n",
    "\n",
    "            with torch.no_grad():\n",
    "                for p in self.linear1.parameters():\n",
    "                    p.copy_(\n",
    "                        (torch.diag(torch.tensor(S[:rank])).float()@ torch.tensor(V[:rank,:]).float()).to('cuda')\n",
    "                    )\n",
    "                \n",
    "                for p in self.linear2.parameters():\n",
    "                    p.copy_(\n",
    "                        (torch.tensor(R_fract_inv @ U[:,:rank])).to('cuda')\n",
    "                    )\n",
    "            self.linear1 = self.linear1.to('cuda')\n",
    "            self.linear2 = self.linear2.to('cuda')\n",
    "            \n",
    "            \n",
    "            \n",
    "                \n",
    "    def forward(self, x):\n",
    "        out = self.linear1(x)\n",
    "        out = self.linear2(out)\n",
    "        return out"
   ]
  },
  {
   "cell_type": "code",
   "execution_count": 6,
   "id": "b63205c3-cf07-49f8-be6e-bc9267223c78",
   "metadata": {},
   "outputs": [],
   "source": [
    "import numpy as np"
   ]
  },
  {
   "cell_type": "code",
   "execution_count": 7,
   "id": "a343bfe4-fd72-4ab9-8410-b41c2239c0c6",
   "metadata": {},
   "outputs": [],
   "source": [
    "def reduce_model(model, rank, type):\n",
    "    for i in range(0,12):\n",
    "        print(i)\n",
    "        model.encoder.block[i].layer[0].SelfAttention.q =\\\n",
    "        Reduced_Linear(model.encoder.block[i].layer[0].SelfAttention.q, rank, type)\n",
    "\n",
    "        model.encoder.block[i].layer[0].SelfAttention.k =\\\n",
    "        Reduced_Linear(model.encoder.block[i].layer[0].SelfAttention.k, rank, type)\n",
    "\n",
    "        model.encoder.block[i].layer[0].SelfAttention.v =\\\n",
    "        Reduced_Linear(model.encoder.block[i].layer[0].SelfAttention.v, rank, type)\n",
    "\n",
    "        model.encoder.block[i].layer[0].SelfAttention.o =\\\n",
    "        Reduced_Linear(model.encoder.block[i].layer[0].SelfAttention.o, rank, type)\n",
    "\n",
    "        '''\n",
    "        model.decoder.block[i].layer[0].SelfAttention.q =\\\n",
    "        Reduced_Linear(model.decoder.block[i].layer[0].SelfAttention.q, rank, type)\n",
    "\n",
    "        model.decoder.block[i].layer[0].SelfAttention.k =\\\n",
    "        Reduced_Linear(model.decoder.block[i].layer[0].SelfAttention.k, rank, type)\n",
    "\n",
    "        model.decoder.block[i].layer[0].SelfAttention.v =\\\n",
    "        Reduced_Linear(model.decoder.block[i].layer[0].SelfAttention.v, rank, type)\n",
    "\n",
    "        model.decoder.block[i].layer[0].SelfAttention.o =\\\n",
    "        Reduced_Linear(model.decoder.block[i].layer[0].SelfAttention.o, rank, type)\n",
    "        '''"
   ]
  },
  {
   "cell_type": "code",
   "execution_count": 8,
   "id": "3b6329e5-be04-41f7-b822-fa972e75edbc",
   "metadata": {},
   "outputs": [],
   "source": [
    "def evaluate_method(data_train,data_test, method, rank):\n",
    "    horizon = data_test.shape[1]\n",
    "\n",
    "    pipeline = BaseChronosPipeline.from_pretrained(\n",
    "            \"amazon/chronos-bolt-base\",\n",
    "            device_map=\"cuda\",  # use \"cpu\" for CPU inference and \"mps\" for Apple Silicon\n",
    "            torch_dtype=torch.bfloat16,\n",
    "                \n",
    "        )\n",
    "    process_model(pipeline.inner_model)\n",
    "    forecast = pipeline.predict(context=data_train.to('cuda'),\n",
    "                                prediction_length=horizon)\n",
    "\n",
    "    reduce_model(pipeline.inner_model, rank, method)\n",
    "    \n",
    "    pipeline.inner_model.float()\n",
    "    forecast = pipeline.predict(context=data_train.to('cuda'),\n",
    "                                prediction_length=horizon)\n",
    "    \n",
    "    forecast = forecast.float().cpu().numpy()[:,4]\n",
    "\n",
    "    #dif = np.sqrt(np.sum((data_test - forecast)**2, axis = 1)) / np.mean(data_test, axis = 1)\n",
    "\n",
    "    return forecast #dif.mean()"
   ]
  },
  {
   "cell_type": "code",
   "execution_count": null,
   "id": "0fd03790-e111-428e-ad33-4c5ef44728e1",
   "metadata": {},
   "outputs": [],
   "source": [
    "evaluate_method()"
   ]
  },
  {
   "cell_type": "code",
   "execution_count": 26,
   "id": "dfc5440e-b9d6-4915-a42e-ddcc534ca016",
   "metadata": {},
   "outputs": [],
   "source": [
    "pipeline = BaseChronosPipeline.from_pretrained(\n",
    "            \"amazon/chronos-bolt-base\",\n",
    "            device_map=\"cpu\",  # use \"cpu\" for CPU inference and \"mps\" for Apple Silicon\n",
    "            torch_dtype=torch.bfloat16,\n",
    "                \n",
    "        )\n",
    "process_model(pipeline.inner_model)\n",
    "for raw in list_of_ts_data:\n",
    "    forecast = pipeline.predict(\n",
    "    context=torch.tensor(raw), prediction_length=12\n",
    ")"
   ]
  },
  {
   "cell_type": "code",
   "execution_count": 98,
   "id": "b522c5d8-d718-495a-a384-a19ddfd56f68",
   "metadata": {},
   "outputs": [
    {
     "data": {
      "text/plain": [
       "torch.Size([1, 1, 768])"
      ]
     },
     "execution_count": 98,
     "metadata": {},
     "output_type": "execute_result"
    }
   ],
   "source": [
    "a[48].shape"
   ]
  },
  {
   "cell_type": "code",
   "execution_count": 32,
   "id": "2518fda9-1f5d-4211-97d2-059d08353062",
   "metadata": {},
   "outputs": [],
   "source": [
    "X_v = torch.cat(a)"
   ]
  },
  {
   "cell_type": "code",
   "execution_count": 124,
   "id": "2d93c110-0341-4c08-8e42-b4c20372e4c3",
   "metadata": {},
   "outputs": [
    {
     "data": {
      "text/plain": [
       "array([[ 6.5192580e-08,  9.8099314e-08, -3.0597050e-06, -3.9387182e-09],\n",
       "       [ 9.8099314e-08,  2.9305616e-07,  1.6848246e-05, -3.5079818e-08],\n",
       "       [-3.0597050e-06,  1.6848246e-05,  2.4088541e-02, -4.1325886e-05],\n",
       "       [-3.9387182e-09, -3.5079818e-08, -4.1325886e-05,  1.0679165e-07]],\n",
       "      dtype=float32)"
      ]
     },
     "execution_count": 124,
     "metadata": {},
     "output_type": "execute_result"
    }
   ],
   "source": [
    "a = pipeline.inner_model.encoder.block[0].layer[0].SelfAttention.v.statistic\n",
    "X_v = torch.cat(a)\n",
    "R_x = (X_v.T @ X_v).float().numpy() / 768\n",
    "R_sq = scipy.linalg.sqrtm(R_x + np.diag(np.ones(768)/100)) #+ #np.diag(np.ones(768)/50000000))\n",
    "R_x[:4,:4] "
   ]
  },
  {
   "cell_type": "code",
   "execution_count": 126,
   "id": "07758bba-bd98-499b-8f94-27ce620b4837",
   "metadata": {},
   "outputs": [
    {
     "data": {
      "text/plain": [
       "torch.Size([8, 768])"
      ]
     },
     "execution_count": 126,
     "metadata": {},
     "output_type": "execute_result"
    }
   ],
   "source": [
    "a[0].shape"
   ]
  },
  {
   "cell_type": "code",
   "execution_count": 34,
   "id": "1ed89501-59ca-4a0e-ad1f-ce48326ad921",
   "metadata": {},
   "outputs": [
    {
     "data": {
      "text/plain": [
       "array([[4.93600965e-08, 1.38243195e-09, 1.19325705e-08],\n",
       "       [1.38243195e-09, 3.55765224e-07, 6.33299351e-08],\n",
       "       [1.19325705e-08, 6.33299351e-08, 1.01979822e-07]], dtype=float32)"
      ]
     },
     "execution_count": 34,
     "metadata": {},
     "output_type": "execute_result"
    }
   ],
   "source": [
    "R_x[:3,:3]"
   ]
  },
  {
   "cell_type": "code",
   "execution_count": 135,
   "id": "07c88297-66ce-4ff4-9fad-3940e56f1a6f",
   "metadata": {},
   "outputs": [
    {
     "data": {
      "text/plain": [
       "tensor(5.5879e-08)"
      ]
     },
     "execution_count": 135,
     "metadata": {},
     "output_type": "execute_result"
    }
   ],
   "source": [
    "torch.mean(X_v[:,0]**2).float()"
   ]
  },
  {
   "cell_type": "code",
   "execution_count": 165,
   "id": "bc704704-de4c-44ed-b15e-7298f568e974",
   "metadata": {},
   "outputs": [
    {
     "data": {
      "text/plain": [
       "array([[ 1.71864076e-04+8.10421271e-10j,  2.67558616e-07-6.12729096e-10j,\n",
       "         5.77820595e-06+4.02390824e-09j, ...,\n",
       "        -3.61078685e-06-4.84604513e-09j,  2.90984939e-06-8.72760239e-10j,\n",
       "        -2.29680052e-06+4.67488696e-10j],\n",
       "       [ 2.67558616e-07-6.12729096e-10j,  3.73062028e-04+4.63261465e-10j,\n",
       "         9.36825054e-06-3.04232594e-09j, ...,\n",
       "        -3.31150740e-06+3.66391278e-09j, -3.37211150e-06+6.59861249e-10j,\n",
       "        -1.45473093e-06-3.53450651e-10j],\n",
       "       [ 5.77820595e-06+4.02390824e-09j,  9.36825054e-06-3.04232594e-09j,\n",
       "         2.03720013e-04+1.99795318e-08j, ...,\n",
       "        -4.42371943e-06-2.40616105e-08j, -8.38626951e-08-4.33343404e-09j,\n",
       "         8.57452643e-07+2.32117750e-09j],\n",
       "       ...,\n",
       "       [-3.61078685e-06-4.84604513e-09j, -3.31150740e-06+3.66391278e-09j,\n",
       "        -4.42371943e-06-2.40616105e-08j, ...,\n",
       "         1.79024107e-04+2.89777110e-08j, -5.44849694e-06+5.21881108e-09j,\n",
       "        -2.35658869e-07-2.79542431e-09j],\n",
       "       [ 2.90984939e-06-8.72760239e-10j, -3.37211150e-06+6.59861249e-10j,\n",
       "        -8.38626951e-08-4.33343404e-09j, ...,\n",
       "        -5.44849694e-06+5.21881108e-09j,  1.44407062e-04+9.39894426e-10j,\n",
       "         1.26460126e-07-5.03448714e-10j],\n",
       "       [-2.29680052e-06+4.67488696e-10j, -1.45473093e-06-3.53450651e-10j,\n",
       "         8.57452643e-07+2.32117750e-09j, ...,\n",
       "        -2.35658869e-07-2.79542431e-09j,  1.26460126e-07-5.03448714e-10j,\n",
       "         1.43914949e-04+2.69669231e-10j]])"
      ]
     },
     "execution_count": 165,
     "metadata": {},
     "output_type": "execute_result"
    }
   ],
   "source": [
    "R_sq"
   ]
  },
  {
   "cell_type": "code",
   "execution_count": 228,
   "id": "f5309bdf-f0b0-4edc-819e-530141e133e6",
   "metadata": {},
   "outputs": [],
   "source": [
    "pipeline.inner_model.float()\n",
    "preds = []\n",
    "for row in list_of_ts_data:\n",
    "    forecast = pipeline.predict(\n",
    "            context=torch.tensor(row), prediction_length=12\n",
    "        )\n",
    "    preds.append(forecast)"
   ]
  },
  {
   "cell_type": "code",
   "execution_count": 185,
   "id": "9b48d6f3-d73c-4015-9da5-dc13eaefdb5c",
   "metadata": {},
   "outputs": [
    {
     "data": {
      "text/plain": [
       "torch.Size([1, 9, 12])"
      ]
     },
     "execution_count": 185,
     "metadata": {},
     "output_type": "execute_result"
    }
   ],
   "source": [
    "forecast.shape"
   ]
  },
  {
   "cell_type": "code",
   "execution_count": 182,
   "id": "87fc831f-b973-42a5-b062-8484f7fe4c6c",
   "metadata": {},
   "outputs": [
    {
     "data": {
      "text/plain": [
       "array([1657.01533756, 1624.5372867 , 1585.22298748, 1674.19528411,\n",
       "       1674.95508584, 1695.75984319, 1655.82305329, 1672.32714116,\n",
       "       1650.60573475, 1738.65621381, 1710.37802985, 1683.41802154])"
      ]
     },
     "execution_count": 182,
     "metadata": {},
     "output_type": "execute_result"
    }
   ],
   "source": [
    "list_of_ts_data_res[0]"
   ]
  },
  {
   "cell_type": "code",
   "execution_count": 215,
   "id": "47849863-bde3-4e31-b7a5-3df32d07d661",
   "metadata": {},
   "outputs": [
    {
     "data": {
      "text/plain": [
       "[<matplotlib.lines.Line2D at 0x7f137598e310>]"
      ]
     },
     "execution_count": 215,
     "metadata": {},
     "output_type": "execute_result"
    },
    {
     "data": {
      "image/png": "[encoded data removed]",
      "text/plain": [
       "<Figure size 640x480 with 1 Axes>"
      ]
     },
     "metadata": {},
     "output_type": "display_data"
    }
   ],
   "source": [
    "plt.plot(list_of_ts_data_res[70])\n",
    "plt.plot(preds[70][0,4])"
   ]
  },
  {
   "cell_type": "code",
   "execution_count": 229,
   "id": "4a26a316-5076-4945-8a3c-b0becce4e6e3",
   "metadata": {},
   "outputs": [],
   "source": [
    "dif = 0\n",
    "for i in range(70):\n",
    "    cur_p = preds[i][0][4].numpy()\n",
    "    cur_res = list_of_ts_data_res[i]\n",
    "    len_ = min(12, len(cur_res))\n",
    "    dif += np.sqrt(np.mean((cur_p[:len_] - cur_res[:len_])**2 )) / np.mean(cur_res[:len_])"
   ]
  },
  {
   "cell_type": "code",
   "execution_count": 168,
   "id": "e3d6ecdc-dcdc-4f01-99d4-791d8944ce00",
   "metadata": {},
   "outputs": [
    {
     "data": {
      "text/plain": [
       "512"
      ]
     },
     "execution_count": 168,
     "metadata": {},
     "output_type": "execute_result"
    }
   ],
   "source": [
    "512"
   ]
  },
  {
   "cell_type": "code",
   "execution_count": 127,
   "id": "9d53831f-9b7d-455b-89d0-7e4eb63e8817",
   "metadata": {},
   "outputs": [],
   "source": [
    "import tarfile"
   ]
  },
  {
   "cell_type": "code",
   "execution_count": null,
   "id": "13b27212-bcff-4ee7-a425-cb55c1905c0d",
   "metadata": {},
   "outputs": [],
   "source": []
  },
  {
   "cell_type": "code",
   "execution_count": 21,
   "id": "2d71c740-cb21-449b-bcc2-b4292a9d6f81",
   "metadata": {},
   "outputs": [],
   "source": [
    "import json\n",
    "b = []\n",
    "data_train = []\n",
    "data_test = []\n",
    "with open('taxi_data/taxi_30min/train/train.json', 'r') as f:\n",
    "    for l in f:\n",
    "        x = torch.tensor(json.loads(l)['target'])\n",
    "        cur_train = []\n",
    "        cur_test = []\n",
    "        #cur_train = [x[:512], x[512:1024]]\n",
    "        #cur_test = [x[512:512+10], x[1024:1024+10]]\n",
    "        for i in range(10):\n",
    "            cur_train.append(\n",
    "                x[i+10:i+10+512]\n",
    "            )\n",
    "            cur_test.append(\n",
    "                x[i+10+512:i+10+512+10]\n",
    "            )\n",
    "        data_train.append(torch.cat(cur_train).view(-1,512))\n",
    "        data_test.append(torch.cat(cur_test).view(-1,10))\n",
    "            \n",
    "            \n",
    "            "
   ]
  },
  {
   "cell_type": "code",
   "execution_count": 22,
   "id": "c9ab1507-cff1-46d3-8a34-7826e2087c95",
   "metadata": {},
   "outputs": [],
   "source": [
    "data_train = torch.cat(data_train).view(-1, 512)\n",
    "data_test = torch.cat(data_test).view(-1, 10)"
   ]
  },
  {
   "cell_type": "code",
   "execution_count": 35,
   "id": "11c1bd01-19a3-419c-a26c-bd4a4872a511",
   "metadata": {},
   "outputs": [
    {
     "name": "stdout",
     "output_type": "stream",
     "text": [
      "0\n",
      "1\n",
      "2\n",
      "3\n",
      "4\n",
      "5\n",
      "6\n",
      "7\n",
      "8\n",
      "9\n",
      "10\n",
      "11\n"
     ]
    }
   ],
   "source": [
    "f = evaluate_method(data_train, data_test, 'matrix', 150)"
   ]
  },
  {
   "cell_type": "code",
   "execution_count": 36,
   "id": "8775d00c-874e-4a72-afdd-1be976370001",
   "metadata": {},
   "outputs": [
    {
     "data": {
      "text/plain": [
       "1.7865189"
      ]
     },
     "execution_count": 36,
     "metadata": {},
     "output_type": "execute_result"
    }
   ],
   "source": [
    "np.mean(np.sqrt(np.mean((data_test.numpy() - f)**2, axis = 1)))"
   ]
  },
  {
   "cell_type": "code",
   "execution_count": 37,
   "id": "513ceaad-55ff-47e4-a165-5d669d8bbb53",
   "metadata": {},
   "outputs": [],
   "source": [
    "import matplotlib.pyplot as plt"
   ]
  },
  {
   "cell_type": "code",
   "execution_count": 50,
   "id": "c9a529fc-9e05-4d2f-aea2-dc7f7400224d",
   "metadata": {},
   "outputs": [
    {
     "data": {
      "text/plain": [
       "[<matplotlib.lines.Line2D at 0x7f01a0437150>]"
      ]
     },
     "execution_count": 50,
     "metadata": {},
     "output_type": "execute_result"
    },
    {
     "data": {
      "image/png": "[encoded data removed]",
      "text/plain": [
       "<Figure size 640x480 with 1 Axes>"
      ]
     },
     "metadata": {},
     "output_type": "display_data"
    }
   ],
   "source": [
    "plt.plot(f[1000])\n",
    "plt.plot(data_test.numpy()[1000])"
   ]
  },
  {
   "cell_type": "code",
   "execution_count": 199,
   "id": "4def6688-4954-43c2-b8cb-c240bece0937",
   "metadata": {},
   "outputs": [
    {
     "data": {
      "text/plain": [
       "12140"
      ]
     },
     "execution_count": 199,
     "metadata": {},
     "output_type": "execute_result"
    }
   ],
   "source": [
    "len(data_train)"
   ]
  },
  {
   "cell_type": "code",
   "execution_count": 11,
   "id": "e709f64e-2fd4-49c2-bd6d-c4602f1f7f73",
   "metadata": {},
   "outputs": [],
   "source": [
    "pipeline = BaseChronosPipeline.from_pretrained(\n",
    "            \"amazon/chronos-bolt-base\",\n",
    "            device_map=\"cuda\",  # use \"cpu\" for CPU inference and \"mps\" for Apple Silicon\n",
    "            torch_dtype=torch.bfloat16,\n",
    "                \n",
    "        )\n",
    "process_model(pipeline.inner_model)"
   ]
  },
  {
   "cell_type": "code",
   "execution_count": 12,
   "id": "99d14953-de6f-4489-abcc-50461b9e4deb",
   "metadata": {},
   "outputs": [
    {
     "name": "stderr",
     "output_type": "stream",
     "text": [
      "Passing a tuple of `past_key_values` is deprecated and will be removed in Transformers v4.48.0. You should pass an instance of `EncoderDecoderCache` instead, e.g. `past_key_values=EncoderDecoderCache.from_legacy_cache(past_key_values)`.\n"
     ]
    }
   ],
   "source": [
    "forecast = pipeline.predict(\n",
    "            context=data_train.to('cuda'), prediction_length=10\n",
    "        )"
   ]
  },
  {
   "cell_type": "code",
   "execution_count": 13,
   "id": "8c0681b2-ecc7-462a-9530-524e277c876a",
   "metadata": {},
   "outputs": [
    {
     "data": {
      "text/plain": [
       "torch.Size([1000, 9, 10])"
      ]
     },
     "execution_count": 13,
     "metadata": {},
     "output_type": "execute_result"
    }
   ],
   "source": [
    "forecast.shape"
   ]
  },
  {
   "cell_type": "code",
   "execution_count": 17,
   "id": "43ea1c50-68fe-449c-928c-6d4dda5f136f",
   "metadata": {},
   "outputs": [],
   "source": [
    "a = pipeline.inner_model.encoder.block[1].layer[0].SelfAttention.k.auto_cor_matrix\n",
    "\n",
    "#R_x = (X_v.T @ X_v).float().numpy() / 768\n",
    "#R_sq = scipy.linalg.sqrtm(R_x + np.diag(np.ones(768)/100)) #+ #np.diag(np.ones(768)/50000000))\n",
    "#R_x[:4,:4] "
   ]
  },
  {
   "cell_type": "code",
   "execution_count": 16,
   "id": "6926be24-21ec-47e6-8ffa-2e31020a0e89",
   "metadata": {},
   "outputs": [
    {
     "data": {
      "text/plain": [
       "52149363000000.0"
      ]
     },
     "execution_count": 16,
     "metadata": {},
     "output_type": "execute_result"
    }
   ],
   "source": [
    "np.linalg.cond(a.cpu().numpy())"
   ]
  },
  {
   "cell_type": "code",
   "execution_count": 47,
   "id": "088853d5-cb0e-4a2c-a359-3acbb99aa767",
   "metadata": {},
   "outputs": [
    {
     "data": {
      "text/plain": [
       "<matplotlib.legend.Legend at 0x7f4be812cc50>"
      ]
     },
     "execution_count": 47,
     "metadata": {},
     "output_type": "execute_result"
    },
    {
     "data": {
      "image/png": "[encoded data removed]",
      "text/plain": [
       "<Figure size 640x480 with 1 Axes>"
      ]
     },
     "metadata": {},
     "output_type": "display_data"
    }
   ],
   "source": [
    "plt.scatter([10,50,70, 100, 150], [4.3, 1.86, 1.84, 1.79, 1.78], label = 'SVD')\n",
    "plt.scatter([10,50,70, 100, 150], [7.6, 2, 1.89, 1.84, 1.81], label = 'New SVD')\n",
    "plt.xlabel('rank, max = 768')\n",
    "plt.ylabel('mae')\n",
    "plt.title('Taxi')\n",
    "plt.legend()"
   ]
  },
  {
   "cell_type": "code",
   "execution_count": null,
   "id": "a2020a79-557d-438c-9cff-5ce13c5e840b",
   "metadata": {},
   "outputs": [],
   "source": []
  }
 ],
 "metadata": {
  "kernelspec": {
   "display_name": "Python 3 (ipykernel)",
   "language": "python",
   "name": "python3"
  },
  "language_info": {
   "codemirror_mode": {
    "name": "ipython",
    "version": 3
   },
   "file_extension": ".py",
   "mimetype": "text/x-python",
   "name": "python",
   "nbconvert_exporter": "python",
   "pygments_lexer": "ipython3",
   "version": "3.11.6"
  }
 },
 "nbformat": 4,
 "nbformat_minor": 5
}
